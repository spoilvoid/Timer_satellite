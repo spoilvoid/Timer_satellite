{
 "cells": [
  {
   "cell_type": "markdown",
   "id": "f6c3d9be",
   "metadata": {},
   "source": [
    "### 依赖包导入"
   ]
  },
  {
   "cell_type": "code",
   "execution_count": 1,
   "id": "306f5693",
   "metadata": {},
   "outputs": [],
   "source": [
    "import argparse\n",
    "import os\n",
    "import random\n",
    "from datetime import datetime\n",
    "\n",
    "import numpy as np\n",
    "import torch\n",
    "import torch.distributed as dist\n",
    "\n",
    "from exp.exp_forecast import Exp_Forecast\n",
    "from exp.exp_anomaly_detection import Exp_Anomaly_Detection\n",
    "from exp.exp_imputation import Exp_Imputation\n",
    "from utils.tools import HiddenPrints"
   ]
  },
  {
   "cell_type": "markdown",
   "id": "ff20dc79",
   "metadata": {},
   "source": [
    "### 变量定义"
   ]
  },
  {
   "cell_type": "code",
   "execution_count": null,
   "id": "8079666f",
   "metadata": {},
   "outputs": [],
   "source": [
    "args = argparse.Namespace(\n",
    "    # ===== basic config =====\n",
    "    task_name=\"imputation\",\n",
    "    model_id=\"Timer_multivariate_imputation\",\n",
    "    model=\"Timer_multivariate\",\n",
    "    seed=42,\n",
    "\n",
    "    # ===== data loader =====\n",
    "    data=\"multivariate\",\n",
    "    root_path=\"./dataset/xw/elec\",\n",
    "    data_path=\"ETTh1.csv\",\n",
    "    features=\"M\",\n",
    "    target=\"OT\",\n",
    "    freq=\"h\",\n",
    "    checkpoints=\"./checkpoints/\",\n",
    "    inverse=False,\n",
    "\n",
    "    # ===== model define =====\n",
    "    d_model=1024,\n",
    "    n_heads=8,\n",
    "    e_layers=8,\n",
    "    d_layers=1,\n",
    "    d_ff=2048,\n",
    "    factor=3,\n",
    "    distil=True,\n",
    "    dropout=0.1,\n",
    "    embed=\"timeF\",\n",
    "    activation=\"gelu\",\n",
    "    output_attention=False,\n",
    "    use_norm=True,\n",
    "    max_len=10000,\n",
    "    mask_flag=True,\n",
    "    binary_bias=False,\n",
    "    covariate=True,\n",
    "    n_pred_vars=15,\n",
    "    freeze_layer=False,\n",
    "\n",
    "    # ===== optimization =====\n",
    "    num_workers=10,\n",
    "    itr=1,\n",
    "    train_epochs=10,\n",
    "    batch_size=64,\n",
    "    patience=3,\n",
    "    learning_rate=1e-4,\n",
    "    des=\"test\",\n",
    "    loss=\"MSE\",\n",
    "    lradj=\"type1\",\n",
    "    use_amp=False,\n",
    "\n",
    "    # ===== GPU =====\n",
    "    use_gpu=True,\n",
    "    gpu=0,\n",
    "    use_multi_gpu=False,\n",
    "    devices=\"0,1,2,3\",\n",
    "\n",
    "    # ===== misc =====\n",
    "    stride=1,\n",
    "    ckpt_path=\"checkpoints/Timer_imputation_1.0.ckpt\",\n",
    "    finetune_epochs=10,\n",
    "    finetune_rate=0.1,\n",
    "    local_rank=0,\n",
    "\n",
    "    patch_len=96,\n",
    "    subset_rand_ratio=1.0,\n",
    "    data_type=\"custom\",\n",
    "\n",
    "    decay_fac=0.75,\n",
    "\n",
    "    # ===== cosine decay =====\n",
    "    cos_warm_up_steps=100,\n",
    "    cos_max_decay_steps=60000,\n",
    "    cos_max_decay_epoch=10,\n",
    "    cos_max=1e-4,\n",
    "    cos_min=2e-6,\n",
    "\n",
    "    # ===== weight decay =====\n",
    "    use_weight_decay=0,\n",
    "    weight_decay=0.01,\n",
    "\n",
    "    # ===== autoregressive configs =====\n",
    "    use_ims=True,\n",
    "    output_len=96,\n",
    "    output_len_list=None,\n",
    "\n",
    "    # ===== train_test =====\n",
    "    train_test=0,\n",
    "    valid_ratio=0.2,\n",
    "    is_finetuning=1,\n",
    "    test_dir=\"test_results\",\n",
    "    test_version=\"test\",  # 可选 \"test\", \"predict\", \"prune\", \"visualize\"\n",
    "    prune_ratio=0.2,\n",
    "    remove_mask=False,\n",
    "\n",
    "    # ===== forecasting task =====\n",
    "    seq_len=672,\n",
    "    label_len=48,\n",
    "    pred_len=0,\n",
    "    input_len=0,\n",
    "\n",
    "    # ===== imputation task =====\n",
    "    mask_rate=0.125,\n",
    "\n",
    "    # ===== anomaly detection task =====\n",
    "    loss_threshold=5.0,\n",
    "\n",
    "    # ===== opacus options =====\n",
    "    use_opacus=False,\n",
    "    noise_multiplier=1.1,\n",
    "    max_grad_norm=1.0,\n",
    "\n",
    "    # ===== training info visualize configs =====\n",
    "    record_info=False,\n",
    ")\n",
    "\n",
    "fix_seed = args.seed\n",
    "random.seed(fix_seed)\n",
    "torch.manual_seed(fix_seed)\n",
    "np.random.seed(fix_seed)\n",
    "args.use_gpu = True if torch.cuda.is_available() and args.use_gpu else False\n",
    "if args.use_multi_gpu:\n",
    "    ip = os.environ.get(\"MASTER_ADDR\", \"127.0.0.1\")\n",
    "    port = os.environ.get(\"MASTER_PORT\", \"64209\")\n",
    "    hosts = int(os.environ.get(\"WORLD_SIZE\", \"8\"))  # number of nodes\n",
    "    rank = int(os.environ.get(\"RANK\", \"0\"))  # node id\n",
    "    local_rank = int(os.environ.get(\"LOCAL_RANK\", \"0\"))\n",
    "    gpus = torch.cuda.device_count()  # gpus per node\n",
    "    args.local_rank = local_rank\n",
    "    print(\n",
    "        'ip: {}, port: {}, hosts: {}, rank: {}, local_rank: {}, gpus: {}'.format(ip, port, hosts, rank, local_rank,\n",
    "                                                                                    gpus))\n",
    "    dist.init_process_group(backend=\"nccl\", init_method=f\"tcp://{ip}:{port}\", world_size=hosts, rank=rank)\n",
    "    print('init_process_group finished')\n",
    "    torch.cuda.set_device(local_rank)"
   ]
  },
  {
   "cell_type": "markdown",
   "id": "2ab7edbf",
   "metadata": {},
   "source": [
    "### 训练数据读取和插补数据生成"
   ]
  },
  {
   "cell_type": "code",
   "execution_count": 14,
   "id": "84689300",
   "metadata": {},
   "outputs": [
    {
     "name": "stdout",
     "output_type": "stream",
     "text": [
      "checkpoints folder are $root/checkpoints/Timer_multivariate_imputation_multivariate_d1024_n8_l8_itr0_25-09-07_16-58-52.\n",
      "test_results folder are $root/test_results/Timer_multivariate_imputation_multivariate_d1024_n8_l8_itr0_25-09-07_16-58-52.\n",
      "Use GPU: cuda:0\n",
      "Number of samples in trainset: 272\n",
      "Number of batches in trainloader: 5\n",
      "First sample in trainset, input: tensor([[  6.,   6.,   6.,  ...,   6.,   6.,   6.],\n",
      "        [  7.,   7.,   7.,  ...,   7.,   7.,   7.],\n",
      "        [  8.,   8.,   8.,  ...,   8.,   8.,   8.],\n",
      "        ...,\n",
      "        [675., 675., 675.,  ..., 675., 675., 675.],\n",
      "        [676., 676., 676.,  ..., 676., 676., 676.],\n",
      "        [677., 677., 677.,  ..., 677., 677., 677.]]), mask: tensor([[1., 1., 1.,  ..., 1., 1., 1.],\n",
      "        [1., 1., 1.,  ..., 1., 1., 1.],\n",
      "        [1., 1., 1.,  ..., 1., 1., 1.],\n",
      "        ...,\n",
      "        [1., 1., 1.,  ..., 1., 1., 1.],\n",
      "        [1., 1., 1.,  ..., 1., 1., 1.],\n",
      "        [1., 1., 1.,  ..., 1., 1., 1.]])\n"
     ]
    }
   ],
   "source": [
    "with HiddenPrints(int(os.environ.get(\"LOCAL_RANK\", \"0\"))):\n",
    "    # setting record of experiments\n",
    "    setting = f\"{args.model}_{args.task_name}_{args.data}_d{args.d_model}_n{args.n_heads}_l{args.e_layers}_itr0_\"\n",
    "    setting += datetime.now().strftime(\"%y-%m-%d_%H-%M-%S\")\n",
    "    print(f\"checkpoints folder are $root/checkpoints/{setting}.\")\n",
    "    print(f\"test_results folder are $root/test_results/{setting}.\")\n",
    "\n",
    "    exp = Exp_Imputation(args)  # set experiments\n",
    "    trainset, trainloader = exp._get_data(flag=\"train\")\n",
    "    print(f\"Number of samples in trainset: {len(trainset)}\")\n",
    "    print(f\"Number of batches in trainloader: {len(trainloader)}\")\n",
    "    mask_set, mask_loader = exp._mask_data(flag=\"train\")\n",
    "    tensor = mask_set.tensors if hasattr(mask_set, \"tensors\") else mask_set.tensor\n",
    "    # 保存为 PyTorch 二进制文件\n",
    "    # torch.save(tensor, os.path.join(args.checkpoints, setting, f\"{filename}_train.pt\"))\n",
    "    \n",
    "    inp, mask = mask_set[0]\n",
    "    print(f\"First sample in trainset, input: {inp}, mask: {mask}\")\n"
   ]
  },
  {
   "cell_type": "markdown",
   "id": "55077258",
   "metadata": {},
   "source": [
    "### 模型训练"
   ]
  },
  {
   "cell_type": "code",
   "execution_count": 8,
   "id": "02906c20",
   "metadata": {},
   "outputs": [
    {
     "name": "stdout",
     "output_type": "stream",
     "text": [
      ">>>>>>>start training : Timer_multivariate_imputation_multivariate_d1024_n8_l8_itr0_25-09-07_16-52-40>>>>>>>>>>>>>>>>>>>>>>>>>>\n",
      "train steps per epoch: 4.0\n",
      "Epoch: 1 cost time: 4.642961740493774\n",
      "Epoch: 1, Steps: 5 | Train Loss: 26918.2662109 Vali Loss: 9070.2958984\n",
      "Validation loss decreased (inf --> 9070.295898).  Saving model ...\n",
      "Updating learning rate to 0.0001\n",
      "Epoch: 2 cost time: 4.550428867340088\n",
      "Epoch: 2, Steps: 5 | Train Loss: 7663.0661133 Vali Loss: 4594.1660156\n",
      "Validation loss decreased (9070.295898 --> 4594.166016).  Saving model ...\n",
      "Updating learning rate to 5e-05\n",
      "Epoch: 3 cost time: 4.622284173965454\n",
      "Epoch: 3, Steps: 5 | Train Loss: 4894.7108398 Vali Loss: 3049.6552734\n",
      "Validation loss decreased (4594.166016 --> 3049.655273).  Saving model ...\n",
      "Updating learning rate to 2.5e-05\n",
      "Epoch: 4 cost time: 4.487482309341431\n",
      "Epoch: 4, Steps: 5 | Train Loss: 3656.1217773 Vali Loss: 2178.1232910\n",
      "Validation loss decreased (3049.655273 --> 2178.123291).  Saving model ...\n",
      "Updating learning rate to 1.25e-05\n",
      "Epoch: 5 cost time: 4.294117212295532\n",
      "Epoch: 5, Steps: 5 | Train Loss: 3095.9174316 Vali Loss: 1870.9421387\n",
      "Validation loss decreased (2178.123291 --> 1870.942139).  Saving model ...\n",
      "Updating learning rate to 6.25e-06\n",
      "Epoch: 6 cost time: 4.577442169189453\n",
      "Epoch: 6, Steps: 5 | Train Loss: 2874.8751953 Vali Loss: 1821.3349609\n",
      "Validation loss decreased (1870.942139 --> 1821.334961).  Saving model ...\n",
      "Updating learning rate to 3.125e-06\n",
      "Epoch: 7 cost time: 4.691876411437988\n",
      "Epoch: 7, Steps: 5 | Train Loss: 2716.4574707 Vali Loss: 1824.3054199\n",
      "EarlyStopping counter: 1 out of 3\n",
      "Updating learning rate to 1.5625e-06\n",
      "Epoch: 8 cost time: 4.410935878753662\n",
      "Epoch: 8, Steps: 5 | Train Loss: 2738.5029297 Vali Loss: 1694.0343018\n",
      "Validation loss decreased (1821.334961 --> 1694.034302).  Saving model ...\n",
      "Updating learning rate to 7.8125e-07\n",
      "Epoch: 9 cost time: 4.5649144649505615\n",
      "Epoch: 9, Steps: 5 | Train Loss: 2719.2037598 Vali Loss: 1749.1965332\n",
      "EarlyStopping counter: 1 out of 3\n",
      "Updating learning rate to 3.90625e-07\n",
      "Epoch: 10 cost time: 4.59948992729187\n",
      "Epoch: 10, Steps: 5 | Train Loss: 2658.0642578 Vali Loss: 1675.7399902\n",
      "Validation loss decreased (1694.034302 --> 1675.739990).  Saving model ...\n",
      "Updating learning rate to 1.953125e-07\n"
     ]
    }
   ],
   "source": [
    "with HiddenPrints(int(os.environ.get(\"LOCAL_RANK\", \"0\"))):\n",
    "    print('>>>>>>>start training : {}>>>>>>>>>>>>>>>>>>>>>>>>>>'.format(setting))\n",
    "    exp.finetune(setting)"
   ]
  },
  {
   "cell_type": "markdown",
   "id": "e091b11a",
   "metadata": {},
   "source": [
    "### 测试数据生成和插补缺失数据保存（可选，如需要请取消注释代码，保存位置在checkpoints保存位置的文件夹下）"
   ]
  },
  {
   "cell_type": "code",
   "execution_count": 11,
   "id": "4117a42c",
   "metadata": {},
   "outputs": [
    {
     "name": "stdout",
     "output_type": "stream",
     "text": [
      ">>>>>>>testing : Timer_multivariate_imputation_multivariate_d1024_n8_l8_itr0_25-09-07_16-52-40<<<<<<<<<<<<<<<<<<<<<<<<<<<<<<<<<\n",
      "Number of samples in testset: 24\n",
      "Number of batches in testloader: 24\n",
      "First sample in testset, input: tensor([[  0.,   0.,   0.,  ...,   0.,   0.,   0.],\n",
      "        [  1.,   1.,   1.,  ...,   1.,   1.,   1.],\n",
      "        [  2.,   2.,   2.,  ...,   2.,   2.,   2.],\n",
      "        ...,\n",
      "        [669., 669., 669.,  ..., 669., 669., 669.],\n",
      "        [670., 670., 670.,  ..., 670., 670., 670.],\n",
      "        [671., 671., 671.,  ..., 671., 671., 671.]]), mask: tensor([[1., 1., 1.,  ..., 1., 1., 1.],\n",
      "        [1., 1., 1.,  ..., 1., 1., 1.],\n",
      "        [1., 1., 1.,  ..., 1., 1., 1.],\n",
      "        ...,\n",
      "        [1., 1., 1.,  ..., 1., 1., 1.],\n",
      "        [1., 1., 1.,  ..., 1., 1., 1.],\n",
      "        [1., 1., 1.,  ..., 1., 1., 1.]])\n"
     ]
    }
   ],
   "source": [
    "with HiddenPrints(int(os.environ.get(\"LOCAL_RANK\", \"0\"))):\n",
    "    print('>>>>>>>testing : {}<<<<<<<<<<<<<<<<<<<<<<<<<<<<<<<<<'.format(setting))\n",
    "    testset, testloader = exp._get_data(flag=\"test\")\n",
    "    print(f\"Number of samples in testset: {len(testset)}\")\n",
    "    print(f\"Number of batches in testloader: {len(testloader)}\")\n",
    "    mask_set, mask_loader = exp._mask_data(flag=\"test\")\n",
    "    tensor = mask_set.tensors if hasattr(mask_set, \"tensors\") else mask_set.tensor\n",
    "    # 保存为 PyTorch 二进制文件\n",
    "    # torch.save(tensor, os.path.join(args.checkpoints, setting, f\"{filename}_test.pt\"))\n",
    "    \n",
    "    inp, mask = mask_set[0]\n",
    "    print(f\"First sample in testset, input: {inp}, mask: {mask}\")"
   ]
  },
  {
   "cell_type": "markdown",
   "id": "e910ed8e",
   "metadata": {},
   "source": [
    "### 模型测试"
   ]
  },
  {
   "cell_type": "code",
   "execution_count": 13,
   "id": "02497a9c",
   "metadata": {},
   "outputs": [
    {
     "name": "stdout",
     "output_type": "stream",
     "text": [
      ">>>>>>>testing : Timer_multivariate_imputation_multivariate_d1024_n8_l8_itr0_25-09-07_16-52-40<<<<<<<<<<<<<<<<<<<<<<<<<<<<<<<<<\n"
     ]
    },
    {
     "name": "stderr",
     "output_type": "stream",
     "text": [
      "100%|██████████| 24/24 [00:13<00:00,  1.84it/s]\n"
     ]
    },
    {
     "name": "stdout",
     "output_type": "stream",
     "text": [
      "mse:7121.2392578125, mae:72.84417724609375\n"
     ]
    }
   ],
   "source": [
    "with HiddenPrints(int(os.environ.get(\"LOCAL_RANK\", \"0\"))):\n",
    "    print('>>>>>>>testing : {}<<<<<<<<<<<<<<<<<<<<<<<<<<<<<<<<<'.format(setting))\n",
    "    exp.test(setting)"
   ]
  }
 ],
 "metadata": {
  "kernelspec": {
   "display_name": "test_timer_xl",
   "language": "python",
   "name": "python3"
  },
  "language_info": {
   "codemirror_mode": {
    "name": "ipython",
    "version": 3
   },
   "file_extension": ".py",
   "mimetype": "text/x-python",
   "name": "python",
   "nbconvert_exporter": "python",
   "pygments_lexer": "ipython3",
   "version": "3.9.21"
  }
 },
 "nbformat": 4,
 "nbformat_minor": 5
}
